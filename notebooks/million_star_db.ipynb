{
 "cells": [
  {
   "cell_type": "markdown",
   "metadata": {},
   "source": [
    "# BSRC: Summer 2019 Research Project \n",
    "\n",
    "## Modifying the Search Function to Work on Databases\n",
    "\n",
    "While the first function I wrote in the Initial_Stage notebook seemed to work well for a small number of sources, it would be slow and memory heavy for a large number of sources. In order to keep from reading all of the database to find objects within the field of view."
   ]
  },
  {
   "cell_type": "code",
   "execution_count": 2,
   "metadata": {},
   "outputs": [],
   "source": [
    "import numpy as np\n",
    "import pandas as pd\n",
    "import matplotlib.pyplot as plt\n",
    "import astropy.units as u\n",
    "from astropy.coordinates import SkyCoord\n",
    "import mysql.connector\n",
    "\n",
    "plt.rc('text', usetex=True)\n",
    "plt.rc('font', family='serif')"
   ]
  },
  {
   "cell_type": "markdown",
   "metadata": {},
   "source": [
    "Querying a database by including functions"
   ]
  },
  {
   "cell_type": "code",
   "execution_count": 1,
   "metadata": {},
   "outputs": [],
   "source": [
    "def connect_to_db(db = 'loganp'):\n",
    "    '''\n",
    "    Connects to the Breakthrough Listen database\n",
    "        \n",
    "    Returns:\n",
    "    --------\n",
    "    db : MySQLConnection\n",
    "        MySQLConnection to Breakthrough Listen database\n",
    "    '''\n",
    "    db = mysql.connector.connect(\n",
    "      option_files='/Users/tyler/.my.cnf',\n",
    "      database = db\n",
    "    )\n",
    "    return db\n",
    "\n",
    "def box_filter(c_ra, c_dec, beam_rad, table):\n",
    "    '''\n",
    "    Returns a \n",
    "    \n",
    "    Parameters:\n",
    "    ----------\n",
    "    c_ra, c_dec : float\n",
    "        Pointing coordinates of the telescope in radians\n",
    "    beam_rad : float\n",
    "        Angular radius of the primary beam in radians\n",
    "    table : str\n",
    "        Table within database where \n",
    "    \n",
    "    Returns:\n",
    "    -------\n",
    "    \n",
    "    \n",
    "    Reference:\n",
    "    ---------\n",
    "    http://janmatuschek.de/LatitudeLongitudeBoundingCoordinate\n",
    "    \n",
    "    '''\n",
    "    if c_dec - beam_rad <= - np.pi / 2.0:\n",
    "        ra_min, ra_max = 0.0, 2.0 * np.pi\n",
    "        dec_min = -np.pi / 2.0\n",
    "        dec_max = c_dec + beam_rad\n",
    "        \n",
    "    elif c_dec + beam_rad >= np.pi / 2.0:\n",
    "        ra_min, ra_max = 0.0, 2.0 * np.pi\n",
    "        dec_min = c_dec - beam_rad\n",
    "        dec_max = np.pi / 2.0\n",
    "    \n",
    "    else:\n",
    "        ra_offset = np.arcsin(np.sin(beam_rad) / np.cos(c_dec))\n",
    "        ra_min  = c_ra - ra_offset\n",
    "        ra_max  = c_ra + ra_offset\n",
    "        dec_min = c_dec - beam_rad\n",
    "        dec_max = c_dec + beam_rad\n",
    "        \n",
    "    bounds = np.rad2deg([ra_min, ra_max, dec_min, dec_max])\n",
    "        \n",
    "    query = \"\"\"\n",
    "            SELECT * \n",
    "            FROM {table} \n",
    "            WHERE ({ra_min} < ra  AND ra < {ra_max}) AND \n",
    "                  ({dec_min} < decl AND decl < {dec_max})\\\n",
    "            \"\"\".format(table = table, ra_min = bounds[0], ra_max = bounds[1], \n",
    "                       dec_min = bounds[2], dec_max = bounds[3])\n",
    "    \n",
    "    return query\n",
    "\n",
    "def select_targets(c_ra, c_dec, beam_rad, table = '1M_target_list'):\n",
    "    '''\n",
    "    \n",
    "    Returns a string to query the 1 million star database to find sources within some primary beam area\n",
    "    \n",
    "    Parameters:\n",
    "    -----------\n",
    "    table : str\n",
    "        Name of the table that is being queried\n",
    "    c_ra, c_dec : float\n",
    "        Pointing coordinates of the telescope in radians\n",
    "    beam_rad: float\n",
    "        Angular radius of the primary beam in radians    \n",
    "    \n",
    "    Returns:\n",
    "    --------\n",
    "    tb : DataFrame\n",
    "        Returns a pandas DataFrame containing the objects meeting the filter criteria\n",
    "        \n",
    "    \n",
    "    \n",
    "    '''\n",
    "    \n",
    "    mask = box_filter(c_ra, c_dec, beam_rad, table)\n",
    "    \n",
    "    query = \"\"\"\\\n",
    "            SELECT * \n",
    "            FROM ({mask}) as sub_filter\n",
    "            WHERE ACOS( SIN(RADIANS(decl)) * SIN({c_dec}) + COS(RADIANS(decl)) * \n",
    "            COS({c_dec}) * COS({c_ra} - RADIANS(ra))) < {beam_rad}; \\\n",
    "            \"\"\".format(mask = mask, c_ra = c_ra, c_dec = c_dec, beam_rad = beam_rad)\n",
    "\n",
    "    tb = pd.read_sql(query, con = connect_to_db())\n",
    "    \n",
    "    return tb"
   ]
  },
  {
   "cell_type": "code",
   "execution_count": 4,
   "metadata": {},
   "outputs": [],
   "source": [
    "c_ra = np.deg2rad(15)\n",
    "c_dec = np.deg2rad(-40)\n",
    "beam_rad = np.deg2rad(3)"
   ]
  },
  {
   "cell_type": "code",
   "execution_count": 5,
   "metadata": {},
   "outputs": [],
   "source": [
    "tb = select_targets(c_ra, c_dec, beam_rad)"
   ]
  },
  {
   "cell_type": "code",
   "execution_count": 6,
   "metadata": {},
   "outputs": [
    {
     "data": {
      "text/html": [
       "<div>\n",
       "<style scoped>\n",
       "    .dataframe tbody tr th:only-of-type {\n",
       "        vertical-align: middle;\n",
       "    }\n",
       "\n",
       "    .dataframe tbody tr th {\n",
       "        vertical-align: top;\n",
       "    }\n",
       "\n",
       "    .dataframe thead th {\n",
       "        text-align: right;\n",
       "    }\n",
       "</style>\n",
       "<table border=\"1\" class=\"dataframe\">\n",
       "  <thead>\n",
       "    <tr style=\"text-align: right;\">\n",
       "      <th></th>\n",
       "      <th>Ind</th>\n",
       "      <th>source_id</th>\n",
       "      <th>ref_epoch</th>\n",
       "      <th>ra</th>\n",
       "      <th>ra_error</th>\n",
       "      <th>decl</th>\n",
       "      <th>dec_error</th>\n",
       "      <th>parallax</th>\n",
       "      <th>parallax_error</th>\n",
       "      <th>parallax_over_error</th>\n",
       "      <th>...</th>\n",
       "      <th>lum_percentile_upper</th>\n",
       "      <th>lum_percentile_lower</th>\n",
       "      <th>dist_c</th>\n",
       "      <th>fwhm_lo_c</th>\n",
       "      <th>fwhm_hi_c</th>\n",
       "      <th>sd_c</th>\n",
       "      <th>teff_val_c</th>\n",
       "      <th>sptype_c</th>\n",
       "      <th>Project</th>\n",
       "      <th>Name</th>\n",
       "    </tr>\n",
       "  </thead>\n",
       "  <tbody>\n",
       "    <tr>\n",
       "      <th>0</th>\n",
       "      <td>576021</td>\n",
       "      <td>4989399774745144448</td>\n",
       "      <td>2015.5</td>\n",
       "      <td>15.7207</td>\n",
       "      <td>0.092435</td>\n",
       "      <td>-37.6277</td>\n",
       "      <td>0.052120</td>\n",
       "      <td>87.8684</td>\n",
       "      <td>0.116319</td>\n",
       "      <td>755.406</td>\n",
       "      <td>...</td>\n",
       "      <td>0.0</td>\n",
       "      <td>0.0</td>\n",
       "      <td>11.3807</td>\n",
       "      <td>11.3630</td>\n",
       "      <td>11.3985</td>\n",
       "      <td>0.015065</td>\n",
       "      <td>0.0</td>\n",
       "      <td>M3.5V</td>\n",
       "      <td>Volume Complete</td>\n",
       "      <td>Volume Complete</td>\n",
       "    </tr>\n",
       "    <tr>\n",
       "      <th>1</th>\n",
       "      <td>578012</td>\n",
       "      <td>4989114210959175808</td>\n",
       "      <td>2015.5</td>\n",
       "      <td>16.1204</td>\n",
       "      <td>0.042209</td>\n",
       "      <td>-38.4644</td>\n",
       "      <td>0.027820</td>\n",
       "      <td>44.0027</td>\n",
       "      <td>0.054959</td>\n",
       "      <td>800.647</td>\n",
       "      <td>...</td>\n",
       "      <td>0.0</td>\n",
       "      <td>0.0</td>\n",
       "      <td>22.7259</td>\n",
       "      <td>22.6926</td>\n",
       "      <td>22.7594</td>\n",
       "      <td>0.028383</td>\n",
       "      <td>0.0</td>\n",
       "      <td>M1V</td>\n",
       "      <td>Volume Complete</td>\n",
       "      <td>Volume Complete</td>\n",
       "    </tr>\n",
       "    <tr>\n",
       "      <th>2</th>\n",
       "      <td>579504</td>\n",
       "      <td>4987578158855872384</td>\n",
       "      <td>2015.5</td>\n",
       "      <td>13.5483</td>\n",
       "      <td>0.040123</td>\n",
       "      <td>-39.6782</td>\n",
       "      <td>0.023367</td>\n",
       "      <td>37.2969</td>\n",
       "      <td>0.055459</td>\n",
       "      <td>672.517</td>\n",
       "      <td>...</td>\n",
       "      <td>0.0</td>\n",
       "      <td>0.0</td>\n",
       "      <td>26.8120</td>\n",
       "      <td>26.7651</td>\n",
       "      <td>26.8590</td>\n",
       "      <td>0.039865</td>\n",
       "      <td>0.0</td>\n",
       "      <td>F7V</td>\n",
       "      <td>Volume Complete</td>\n",
       "      <td>Volume Complete</td>\n",
       "    </tr>\n",
       "    <tr>\n",
       "      <th>3</th>\n",
       "      <td>580918</td>\n",
       "      <td>4999214840166796416</td>\n",
       "      <td>2015.5</td>\n",
       "      <td>11.5702</td>\n",
       "      <td>0.026140</td>\n",
       "      <td>-40.2979</td>\n",
       "      <td>0.028010</td>\n",
       "      <td>33.5035</td>\n",
       "      <td>0.044986</td>\n",
       "      <td>744.759</td>\n",
       "      <td>...</td>\n",
       "      <td>0.0</td>\n",
       "      <td>0.0</td>\n",
       "      <td>29.8478</td>\n",
       "      <td>29.8006</td>\n",
       "      <td>29.8950</td>\n",
       "      <td>0.040074</td>\n",
       "      <td>0.0</td>\n",
       "      <td>M1.5V</td>\n",
       "      <td>Volume Complete</td>\n",
       "      <td>Volume Complete</td>\n",
       "    </tr>\n",
       "    <tr>\n",
       "      <th>4</th>\n",
       "      <td>581109</td>\n",
       "      <td>4986885500889922176</td>\n",
       "      <td>2015.5</td>\n",
       "      <td>13.3496</td>\n",
       "      <td>0.032689</td>\n",
       "      <td>-41.2394</td>\n",
       "      <td>0.021742</td>\n",
       "      <td>33.1309</td>\n",
       "      <td>0.046654</td>\n",
       "      <td>710.138</td>\n",
       "      <td>...</td>\n",
       "      <td>0.0</td>\n",
       "      <td>0.0</td>\n",
       "      <td>30.1834</td>\n",
       "      <td>30.1334</td>\n",
       "      <td>30.2335</td>\n",
       "      <td>0.042501</td>\n",
       "      <td>0.0</td>\n",
       "      <td>M0V</td>\n",
       "      <td>Volume Complete</td>\n",
       "      <td>Volume Complete</td>\n",
       "    </tr>\n",
       "  </tbody>\n",
       "</table>\n",
       "<p>5 rows × 57 columns</p>\n",
       "</div>"
      ],
      "text/plain": [
       "      Ind            source_id  ref_epoch       ra  ra_error     decl  \\\n",
       "0  576021  4989399774745144448     2015.5  15.7207  0.092435 -37.6277   \n",
       "1  578012  4989114210959175808     2015.5  16.1204  0.042209 -38.4644   \n",
       "2  579504  4987578158855872384     2015.5  13.5483  0.040123 -39.6782   \n",
       "3  580918  4999214840166796416     2015.5  11.5702  0.026140 -40.2979   \n",
       "4  581109  4986885500889922176     2015.5  13.3496  0.032689 -41.2394   \n",
       "\n",
       "   dec_error  parallax  parallax_error  parallax_over_error  ...  \\\n",
       "0   0.052120   87.8684        0.116319              755.406  ...   \n",
       "1   0.027820   44.0027        0.054959              800.647  ...   \n",
       "2   0.023367   37.2969        0.055459              672.517  ...   \n",
       "3   0.028010   33.5035        0.044986              744.759  ...   \n",
       "4   0.021742   33.1309        0.046654              710.138  ...   \n",
       "\n",
       "   lum_percentile_upper  lum_percentile_lower   dist_c  fwhm_lo_c  fwhm_hi_c  \\\n",
       "0                   0.0                   0.0  11.3807    11.3630    11.3985   \n",
       "1                   0.0                   0.0  22.7259    22.6926    22.7594   \n",
       "2                   0.0                   0.0  26.8120    26.7651    26.8590   \n",
       "3                   0.0                   0.0  29.8478    29.8006    29.8950   \n",
       "4                   0.0                   0.0  30.1834    30.1334    30.2335   \n",
       "\n",
       "       sd_c  teff_val_c  sptype_c          Project             Name  \n",
       "0  0.015065         0.0     M3.5V  Volume Complete  Volume Complete  \n",
       "1  0.028383         0.0       M1V  Volume Complete  Volume Complete  \n",
       "2  0.039865         0.0       F7V  Volume Complete  Volume Complete  \n",
       "3  0.040074         0.0     M1.5V  Volume Complete  Volume Complete  \n",
       "4  0.042501         0.0       M0V  Volume Complete  Volume Complete  \n",
       "\n",
       "[5 rows x 57 columns]"
      ]
     },
     "execution_count": 6,
     "metadata": {},
     "output_type": "execute_result"
    }
   ],
   "source": [
    "tb.head()"
   ]
  },
  {
   "cell_type": "markdown",
   "metadata": {},
   "source": [
    "## Test the Function"
   ]
  },
  {
   "cell_type": "markdown",
   "metadata": {},
   "source": [
    "Here I'll test the SQL search function I wrote to search for sources inside some field of view. The astropy separation function will be used to determine the distance between the center pointing and the sources. All sources should be within three degrees of the pointing center."
   ]
  },
  {
   "cell_type": "code",
   "execution_count": 7,
   "metadata": {},
   "outputs": [],
   "source": [
    "pointing = SkyCoord(np.rad2deg(c_ra), np.rad2deg(c_dec), unit=(u.deg))\n",
    "sources = SkyCoord(tb['ra'], tb['decl'], unit=(u.deg))\n",
    "dist = pointing.separation(sources).degree"
   ]
  },
  {
   "cell_type": "markdown",
   "metadata": {},
   "source": [
    "Now, I'll sort the angular distances and print the 10 largest angular distances to see if they fall within the three degree cut."
   ]
  },
  {
   "cell_type": "code",
   "execution_count": 8,
   "metadata": {},
   "outputs": [
    {
     "data": {
      "text/plain": [
       "array([2.99905653, 2.99850549, 2.99509336, 2.99128085, 2.98863672,\n",
       "       2.98622088, 2.98539246, 2.98420895, 2.982386  , 2.98164478])"
      ]
     },
     "execution_count": 8,
     "metadata": {},
     "output_type": "execute_result"
    }
   ],
   "source": [
    "np.sort(dist)[::-1][:10]"
   ]
  },
  {
   "cell_type": "markdown",
   "metadata": {},
   "source": [
    "I'll also plot a histogram of the number of sources by angular distance. Bins with larger angular distances should have more sources than bins with smaller angular distances."
   ]
  },
  {
   "cell_type": "code",
   "execution_count": 13,
   "metadata": {},
   "outputs": [
    {
     "data": {
      "image/png": "[encoded data removed]",
      "text/plain": [
       "<Figure size 720x432 with 1 Axes>"
      ]
     },
     "metadata": {
      "needs_background": "light"
     },
     "output_type": "display_data"
    }
   ],
   "source": [
    "plt.figure(figsize=(10,6))\n",
    "plt.hist(dist, bins=20, alpha=0.7)\n",
    "plt.xlabel('Angular Separation (degrees)')\n",
    "plt.ylabel('N sources')\n",
    "#plt.show()\n",
    "plt.savefig('distribution_of_targets.png', dpi=100)"
   ]
  },
  {
   "cell_type": "code",
   "execution_count": null,
   "metadata": {},
   "outputs": [],
   "source": []
  }
 ],
 "metadata": {
  "kernelspec": {
   "display_name": "Python 2",
   "language": "python",
   "name": "python2"
  },
  "language_info": {
   "codemirror_mode": {
    "name": "ipython",
    "version": 2
   },
   "file_extension": ".py",
   "mimetype": "text/x-python",
   "name": "python",
   "nbconvert_exporter": "python",
   "pygments_lexer": "ipython2",
   "version": "2.7.16"
  }
 },
 "nbformat": 4,
 "nbformat_minor": 2
}
