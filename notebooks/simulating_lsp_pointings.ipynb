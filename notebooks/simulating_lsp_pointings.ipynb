{
 "cells": [
  {
   "cell_type": "markdown",
   "metadata": {},
   "source": [
    "# Simulating a Year of Observations w/ MeerKAT LSPs \n",
    "\n"
   ]
  },
  {
   "cell_type": "code",
   "execution_count": 1,
   "metadata": {},
   "outputs": [],
   "source": [
    "import numpy as np\n",
    "import pandas as pd\n",
    "from sqlalchemy import create_engine\n",
    "from sqlalchemy.engine.url import URL\n",
    "from sklearn.cluster import KMeans\n",
    "import matplotlib.pyplot as plt\n",
    "\n",
    "plt.rc('font', family='serif')\n",
    "plt.rc('text', usetex=True)\n",
    "plt.rc('xtick', labelsize='medium', direction = 'in')\n",
    "plt.rc('ytick', labelsize='medium', direction = 'in')"
   ]
  },
  {
   "cell_type": "code",
   "execution_count": 2,
   "metadata": {},
   "outputs": [],
   "source": [
    "cred = {\n",
    "          'drivername': 'mysql',\n",
    "          'username': 'root',\n",
    "          'password': 'mysql_pass',\n",
    "          'host': 'localhost',\n",
    "          'database': 'observations'\n",
    "}"
   ]
  },
  {
   "cell_type": "code",
   "execution_count": 3,
   "metadata": {},
   "outputs": [],
   "source": [
    "db = URL(**cred)\n",
    "engine = create_engine(name_or_url = db)\n",
    "conn = engine.connect()"
   ]
  },
  {
   "cell_type": "code",
   "execution_count": 4,
   "metadata": {},
   "outputs": [],
   "source": [
    "query = 'SELECT DISTINCT project FROM target_list;'\n",
    "lsps = pd.read_sql(query, conn)\n",
    "lsps = lsps[lsps['project'] != 'Volume Complete'].to_numpy().ravel()"
   ]
  },
  {
   "cell_type": "code",
   "execution_count": 5,
   "metadata": {},
   "outputs": [
    {
     "data": {
      "text/plain": [
       "array(['Fornax', 'LADUMA', 'MeertTime1000', 'MeertTimeGC',\n",
       "       'MeerTime Binaries', 'MeerTime MSP PPTA', 'MeerTime MSP Nanograv',\n",
       "       'MeerTime MSP MSPs <-35 decl', 'MeerTime MSP Possible MSP targets',\n",
       "       'MHONGOOSE', 'MIGHTEE', 'TRAPUM_GC', 'TRAPUM Fermi Sources',\n",
       "       'TRAPUM Nearby Galaxies'], dtype=object)"
      ]
     },
     "execution_count": 5,
     "metadata": {},
     "output_type": "execute_result"
    }
   ],
   "source": [
    "lsps"
   ]
  },
  {
   "cell_type": "markdown",
   "metadata": {},
   "source": [
    "## Survey w/ Single Pointing\n",
    "\n",
    "### LADUMA\n",
    "\n",
    "This is going to be a pain in the ass to do these all at once, so let's just stick to one project for now. Single pointing"
   ]
  },
  {
   "cell_type": "code",
   "execution_count": 6,
   "metadata": {},
   "outputs": [],
   "source": [
    "query = 'SELECT * FROM target_list WHERE project = \"{}\"'.format('LADUMA')\n",
    "tb = pd.read_sql(query, conn)"
   ]
  },
  {
   "cell_type": "code",
   "execution_count": 7,
   "metadata": {},
   "outputs": [],
   "source": [
    "points = pd.read_csv('../data/laduma.csv')"
   ]
  },
  {
   "cell_type": "code",
   "execution_count": 8,
   "metadata": {
    "scrolled": true
   },
   "outputs": [
    {
     "data": {
      "text/html": [
       "<div>\n",
       "<style scoped>\n",
       "    .dataframe tbody tr th:only-of-type {\n",
       "        vertical-align: middle;\n",
       "    }\n",
       "\n",
       "    .dataframe tbody tr th {\n",
       "        vertical-align: top;\n",
       "    }\n",
       "\n",
       "    .dataframe thead th {\n",
       "        text-align: right;\n",
       "    }\n",
       "</style>\n",
       "<table border=\"1\" class=\"dataframe\">\n",
       "  <thead>\n",
       "    <tr style=\"text-align: right;\">\n",
       "      <th></th>\n",
       "      <th>ra_deg</th>\n",
       "      <th>dec_deg</th>\n",
       "    </tr>\n",
       "  </thead>\n",
       "  <tbody>\n",
       "    <tr>\n",
       "      <th>0</th>\n",
       "      <td>53.12</td>\n",
       "      <td>-28.13</td>\n",
       "    </tr>\n",
       "  </tbody>\n",
       "</table>\n",
       "</div>"
      ],
      "text/plain": [
       "   ra_deg  dec_deg\n",
       "0   53.12   -28.13"
      ]
     },
     "execution_count": 8,
     "metadata": {},
     "output_type": "execute_result"
    }
   ],
   "source": [
    "points.loc[:, ['ra_deg', 'dec_deg']]"
   ]
  },
  {
   "cell_type": "code",
   "execution_count": 9,
   "metadata": {},
   "outputs": [],
   "source": [
    "tb = tb.loc[:, ['ra', 'decl']]"
   ]
  },
  {
   "cell_type": "markdown",
   "metadata": {},
   "source": [
    "LADUMA has 3424 hours in a single field. "
   ]
  },
  {
   "cell_type": "code",
   "execution_count": 10,
   "metadata": {},
   "outputs": [
    {
     "name": "stdout",
     "output_type": "stream",
     "text": [
      "Given 10 beams and a 300.0 second observation time, we can observe 410880.0 sources. This field has 1597 sources.\n"
     ]
    }
   ],
   "source": [
    "n_beams = 10\n",
    "obs_length = 5. * 60.\n",
    "field_time = 3424 * 60. * 60.\n",
    "\n",
    "potential_obs = n_beams * (field_time / obs_length)\n",
    "print (\n",
    "'Given {} beams and a {} second observation time, \\\n",
    "we can observe {} sources. This field has {} sources.\\\n",
    "'.format(n_beams, obs_length, potential_obs, tb.shape[0]))"
   ]
  },
  {
   "cell_type": "code",
   "execution_count": 11,
   "metadata": {},
   "outputs": [
    {
     "data": {
      "text/plain": [
       "257.28240450845334"
      ]
     },
     "execution_count": 11,
     "metadata": {},
     "output_type": "execute_result"
    }
   ],
   "source": [
    "potential_obs / tb.shape[0]"
   ]
  },
  {
   "cell_type": "markdown",
   "metadata": {},
   "source": [
    "## Survey w/ Multiple Pointings\n",
    "\n",
    "### MeerTime GC"
   ]
  },
  {
   "cell_type": "code",
   "execution_count": 12,
   "metadata": {},
   "outputs": [],
   "source": [
    "query = 'SELECT * FROM target_list WHERE project = \"{}\"'.format('MeertTimeGC')\n",
    "tb = pd.read_sql(query, conn).loc[:, ['ra', 'decl']]\n",
    "points = pd.read_csv('../data/MeerTime_GC_targets.csv').loc[:, ['ra_deg', 'dec_deg']]"
   ]
  },
  {
   "cell_type": "code",
   "execution_count": 13,
   "metadata": {},
   "outputs": [],
   "source": [
    "id_n = points.shape[0]\n",
    "kmeans = KMeans(n_clusters=id_n).fit(tb)\n",
    "id_label = kmeans.labels_"
   ]
  },
  {
   "cell_type": "code",
   "execution_count": 14,
   "metadata": {},
   "outputs": [
    {
     "data": {
      "image/png": "[encoded data removed]",
      "text/plain": [
       "<Figure size 432x288 with 1 Axes>"
      ]
     },
     "metadata": {
      "needs_background": "light"
     },
     "output_type": "display_data"
    }
   ],
   "source": [
    "for i in range(id_n):\n",
    "    cluster=np.where(id_label==i)[0]\n",
    "    plt.scatter(tb.ra[cluster].values, tb.decl[cluster].values, s = 0.1)\n",
    "plt.show()"
   ]
  },
  {
   "cell_type": "code",
   "execution_count": 15,
   "metadata": {},
   "outputs": [],
   "source": [
    "targs = []\n",
    "\n",
    "for i in range(id_n):\n",
    "    cluster=np.where(id_label==i)[0]\n",
    "    targs.append(tb.loc[cluster, :])"
   ]
  },
  {
   "cell_type": "markdown",
   "metadata": {},
   "source": [
    "Assume equal observing time on each pointing. Trapum Fermi observations have ~0.5 hours per pointing"
   ]
  },
  {
   "cell_type": "code",
   "execution_count": 16,
   "metadata": {},
   "outputs": [
    {
     "name": "stdout",
     "output_type": "stream",
     "text": [
      "0 6.41399416909621\n",
      "1 11.68141592920354\n",
      "2 14.505494505494505\n",
      "3 29.398663697104677\n",
      "4 7.177814029363785\n",
      "5 6.291706387035272\n",
      "6 42.99674267100977\n",
      "7 24.765478424015008\n",
      "8 19.730941704035875\n",
      "9 16.879795396419436\n",
      "10 21.498371335504885\n",
      "11 9.179415855354659\n",
      "12 12.878048780487806\n",
      "13 21.96339434276206\n",
      "14 7.956600361663653\n",
      "15 16.438356164383563\n",
      "16 7.317073170731708\n",
      "17 6.69710806697108\n",
      "18 6.969376979936642\n",
      "19 16.730038022813687\n",
      "20 9.428571428571429\n",
      "21 31.961259079903147\n",
      "22 5.866666666666666\n",
      "23 6.776180698151951\n",
      "24 9.455587392550143\n",
      "25 7.177814029363785\n",
      "26 7.482993197278912\n",
      "27 6.238185255198488\n",
      "28 21.428571428571427\n"
     ]
    }
   ],
   "source": [
    "n_beams = 20\n",
    "obs_length = 5. * 60\n",
    "field_time = 55 * 60. * 60.\n",
    "fields = []\n",
    "\n",
    "potential_obs = n_beams * (field_time / obs_length)\n",
    "\n",
    "for i in range(len(targs)):\n",
    "    fields.append(len(targs[i]))\n",
    "\n",
    "for i in range(len(targs)):\n",
    "    #fields[i] -= potential_obs\n",
    "    if potential_obs / fields[i] > 1.0:\n",
    "        print (i, potential_obs / fields[i])"
   ]
  },
  {
   "cell_type": "markdown",
   "metadata": {},
   "source": [
    "## All Projects\n",
    "\n",
    "Need to include MIGHTEE, MeerTime 1000, and MeerTime MSP"
   ]
  },
  {
   "cell_type": "code",
   "execution_count": 17,
   "metadata": {},
   "outputs": [],
   "source": [
    "query = 'SELECT DISTINCT project FROM target_list;'\n",
    "lsps = pd.read_sql(query, conn)\n",
    "lsps = lsps[lsps['project'] != 'Volume Complete'].to_numpy().ravel()\n",
    "lsps = np.array(list(lsps[:5]) + list(lsps[9:]))\n",
    "lsps = np.delete(lsps, 6)"
   ]
  },
  {
   "cell_type": "code",
   "execution_count": 18,
   "metadata": {},
   "outputs": [],
   "source": [
    "p_files = [\n",
    "    'fornax.csv', 'laduma.csv', 'meertime_1000PTA_1000brightest_targets.csv', \n",
    "    'MeerTime_GC_targets.csv', 'MeerTime_binaries_atnfcatalog_notgc.csv', \n",
    "    'mhongoose_webtable.csv', 'Trapum_GC_targets.csv', \n",
    "    'Trapum_fermi_targets.csv', 'trapum_galaxies.csv'    \n",
    "]"
   ]
  },
  {
   "cell_type": "code",
   "execution_count": 19,
   "metadata": {},
   "outputs": [],
   "source": [
    "p_data = []\n",
    "\n",
    "for f in p_files:\n",
    "    f = '../pointing_data/' + f\n",
    "    p_data.append(pd.read_csv(f))"
   ]
  },
  {
   "cell_type": "code",
   "execution_count": 20,
   "metadata": {},
   "outputs": [],
   "source": [
    "# Time per pointing in seconds\n",
    "# Some of these times don't make sense MeerTime Binary in particular\n",
    "times = np.array([10. * 91., 3424.,  12 * 1./6., 18 * 2., 18 * 0.5, \n",
    "                  55., 2 * 4., 0.5, 20.]) * 60. * 60."
   ]
  },
  {
   "cell_type": "code",
   "execution_count": 21,
   "metadata": {},
   "outputs": [],
   "source": [
    "n_beams = 60\n",
    "pointings = 10\n",
    "obs_time = 5 * 60."
   ]
  },
  {
   "cell_type": "code",
   "execution_count": 22,
   "metadata": {},
   "outputs": [
    {
     "data": {
      "text/plain": [
       "array([3.27600e+06, 1.23264e+07, 7.20000e+03, 1.29600e+05, 3.24000e+04,\n",
       "       1.98000e+05, 2.88000e+04, 1.80000e+03, 7.20000e+04])"
      ]
     },
     "execution_count": 22,
     "metadata": {},
     "output_type": "execute_result"
    }
   ],
   "source": [
    "times"
   ]
  },
  {
   "cell_type": "code",
   "execution_count": 23,
   "metadata": {},
   "outputs": [],
   "source": [
    "projects = []\n",
    "\n",
    "for p in lsps:\n",
    "    query = 'SELECT ra, decl FROM target_list WHERE project = \"{}\"'.format(p)\n",
    "    projects.append(pd.read_sql(query, conn))"
   ]
  },
  {
   "cell_type": "code",
   "execution_count": null,
   "metadata": {
    "scrolled": true
   },
   "outputs": [
    {
     "name": "stdout",
     "output_type": "stream",
     "text": [
      "0 fornax.csv\n",
      "1 laduma.csv\n",
      "2 meertime_1000PTA_1000brightest_targets.csv\n"
     ]
    }
   ],
   "source": [
    "# For each LSP\n",
    "\n",
    "sources_per_group = []\n",
    "\n",
    "for i, p in enumerate(projects):\n",
    "    # For each pointing in the lsp, do a thing\n",
    "    \n",
    "    points = p_data[i].loc[:, ['ra_deg', 'dec_deg']]\n",
    "    id_n = points.shape[0]\n",
    "    print (i, p_files[i])\n",
    "    if id_n < 800:\n",
    "        \n",
    "        kmeans = KMeans(n_clusters = id_n).fit(p)\n",
    "        id_label = kmeans.labels_\n",
    "        groups = []\n",
    "        \n",
    "        \"\"\"\n",
    "        for i in range(id_n):\n",
    "            cluster=np.where(id_label==i)[0]\n",
    "            plt.scatter(p.ra[cluster].values, p.decl[cluster].values, s = 0.1)\n",
    "        plt.show()\n",
    "        \"\"\"\n",
    "        \n",
    "        for l in np.unique(kmeans.labels_):\n",
    "            groups.append(len(np.where(kmeans.labels_ == l)[0]))\n",
    "            \n",
    "        sources_per_group.append(np.array(groups))\n",
    "        \n",
    "        \n",
    "\n",
    "    else:\n",
    "        sources_per_group.append([])\n",
    "        print (p_files[i], id_n)"
   ]
  },
  {
   "cell_type": "markdown",
   "metadata": {},
   "source": [
    "### Fractional Coverage"
   ]
  },
  {
   "cell_type": "code",
   "execution_count": 27,
   "metadata": {},
   "outputs": [
    {
     "data": {
      "image/png": "[encoded data removed]",
      "text/plain": [
       "<Figure size 1080x576 with 9 Axes>"
      ]
     },
     "metadata": {
      "needs_background": "light"
     },
     "output_type": "display_data"
    }
   ],
   "source": [
    "n_beams = 50\n",
    "obs_time = 300.\n",
    "k = 0\n",
    "lsps[6] = 'TRAPUM GC'\n",
    "\n",
    "fig, axs = plt.subplots(2, 4, figsize=(15,8))\n",
    "axs = axs.ravel()\n",
    "\n",
    "for i, group in enumerate(sources_per_group):\n",
    "    if len(group) > 0:\n",
    "        axs[k].set_title('{}'.format(lsps[i]))\n",
    "        axs[k].bar(np.arange(len(group)), alpha = 0.5, color = 'blue',\n",
    "                   height = np.sort(((times[i] / obs_time) * n_beams) / group))\n",
    "        axs[k].axhline(1., color = 'black', linestyle = '-.')\n",
    "        k += 1\n",
    "\n",
    "fig.add_subplot(111, frameon=False)\n",
    "plt.tick_params(labelcolor='none', top=False, bottom=False, left=False, right=False)\n",
    "plt.xlabel(\"Fields\", fontsize = 18, labelpad = 18)\n",
    "plt.ylabel(r\"$N_{\\rm beams}$ / $N_{\\rm stars}$\", fontsize = 18, labelpad = 18)\n",
    "plt.suptitle(r'Fractional Coverage of Fields in MeerKAT LSPs: ' +\n",
    "              'Observation Time = {} seconds, $N_{{beams}}$ = {}'.format(obs_time, n_beams)\n",
    "             , fontsize = 16)\n",
    "plt.show()\n",
    "#plt.savefig('survey_coverage.pdf', bbox_inches='tight')\n"
   ]
  },
  {
   "cell_type": "markdown",
   "metadata": {},
   "source": [
    "### Beams Needed to Observe Every Source"
   ]
  },
  {
   "cell_type": "code",
   "execution_count": 28,
   "metadata": {},
   "outputs": [
    {
     "data": {
      "image/png": "[encoded data removed]",
      "text/plain": [
       "<Figure size 1080x576 with 9 Axes>"
      ]
     },
     "metadata": {
      "needs_background": "light"
     },
     "output_type": "display_data"
    }
   ],
   "source": [
    "obs_time = 300.\n",
    "k = 0\n",
    "\n",
    "fig, axs = plt.subplots(2, 4, figsize=(15,8))\n",
    "axs = axs.ravel()\n",
    "\n",
    "for i, group in enumerate(sources_per_group):\n",
    "    if len(group) > 0:\n",
    "        axs[k].set_title('{}'.format(lsps[i]))\n",
    "        idx = np.argsort(((times[i] / obs_time) * n_beams) / group)\n",
    "        \n",
    "        axs[k].bar(np.arange(len(group)), alpha = 0.5, color = 'blue',\n",
    "                   height = (group / (times[i] / obs_time))[idx])\n",
    "        k += 1\n",
    "\n",
    "fig.add_subplot(111, frameon=False)\n",
    "plt.tick_params(labelcolor='none', top=False, bottom=False, left=False, right=False)\n",
    "plt.xlabel(\"Fields\", fontsize = 18, labelpad = 18)\n",
    "plt.ylabel(r\"$N_{\\rm beams}$\", fontsize = 18, labelpad = 18)\n",
    "plt.suptitle(r'$N_{{beams}}$ Needed to Observe Every Source in MeerKAT LSPs: Observation Time = {} seconds'.format(obs_time)\n",
    "             , fontsize = 16)\n",
    "plt.show()\n",
    "#plt.savefig('nbeams_needed_sub.pdf', bbox_inches='tight')\n"
   ]
  },
  {
   "cell_type": "code",
   "execution_count": 77,
   "metadata": {},
   "outputs": [
    {
     "data": {
      "image/png": "[encoded data removed]",
      "text/plain": [
       "<Figure size 576x360 with 1 Axes>"
      ]
     },
     "metadata": {
      "needs_background": "light"
     },
     "output_type": "display_data"
    }
   ],
   "source": [
    "field_list = np.array([item for sublist in sources_per_group for item in sublist])\n",
    "times_sublist = [[times[i]] * len(sublist) for i, sublist in enumerate(sources_per_group)]\n",
    "time_list = np.array([item for sublist in times_sublist for item in sublist])\n",
    "obs_time = 300.\n",
    "\n",
    "plt.figure(figsize=(8,5))\n",
    "plt.hist(field_list / (time_list / obs_time), bins = 50,\n",
    "         alpha = 1, color = 'blue', edgecolor='k', zorder = 3)\n",
    "plt.xlabel(r\"$N_{\\rm beams}$\", fontsize = 14, labelpad = 10)\n",
    "plt.ylabel(r\"$N_{\\rm Fields}$\", fontsize = 14, labelpad = 10)\n",
    "#plt.title(r'Beams Needed to Observe Every Source in Each Field', fontsize = 16)\n",
    "plt.axvline(x = 64, color = 'red', linestyle = '--')\n",
    "#plt.yscale('log')\n",
    "plt.grid(linestyle='dashdot', zorder=0)\n",
    "plt.savefig('nbeams_needed.png', bbox_inches='tight', dpi = 200)"
   ]
  },
  {
   "cell_type": "code",
   "execution_count": 76,
   "metadata": {},
   "outputs": [
    {
     "data": {
      "text/plain": [
       "0.7392739273927392"
      ]
     },
     "execution_count": 76,
     "metadata": {},
     "output_type": "execute_result"
    }
   ],
   "source": [
    "vals, bins = np.histogram(field_list / (time_list / obs_time), bins = 50)\n",
    "vals[(bins[:-1] < 64)].sum() / vals.sum()"
   ]
  },
  {
   "cell_type": "markdown",
   "metadata": {},
   "source": [
    "### Histogram of number of fields with a given number of sources"
   ]
  },
  {
   "cell_type": "code",
   "execution_count": 36,
   "metadata": {},
   "outputs": [],
   "source": [
    "field_list = [item for sublist in sources_per_group for item in sublist]"
   ]
  },
  {
   "cell_type": "code",
   "execution_count": 37,
   "metadata": {},
   "outputs": [
    {
     "data": {
      "image/png": "[encoded data removed]",
      "text/plain": [
       "<Figure size 720x360 with 1 Axes>"
      ]
     },
     "metadata": {
      "needs_background": "light"
     },
     "output_type": "display_data"
    }
   ],
   "source": [
    "plt.figure(figsize=(10, 5))\n",
    "plt.hist(field_list, bins = np.logspace(np.log10(50), np.log10(3e4), 25), \n",
    "         alpha = 1, color = 'blue', edgecolor='k', zorder = 3)\n",
    "#plt.hist(flat_list, bins = 50, alpha = 0.5, color = 'blue')\n",
    "plt.xscale('log')\n",
    "plt.xlabel('Number of Sources', fontsize=14)\n",
    "plt.ylabel('Number of Fields', fontsize=14)\n",
    "plt.grid(linestyle='dashdot', zorder=0)\n",
    "plt.savefig('source_field_dist.png', bbox_inches='tight', dpi = 200)"
   ]
  },
  {
   "cell_type": "code",
   "execution_count": null,
   "metadata": {},
   "outputs": [],
   "source": [
    "times_sublist = [[times[i]] * len(sublist) for i, sublist in enumerate(sources_per_group)]\n",
    "time_list = np.array([item for sublist in times_sublist for item in sublist])\n",
    "\n",
    "plt.figure(figsize=(10, 5))\n",
    "plt.hist(field_list / time_list, bins = 100, alpha = 1, color = 'blue', edgecolor='k', zorder = 3)\n",
    "#plt.hist(flat_list, bins = 50, alpha = 0.5, color = 'blue')\n",
    "#plt.xscale('log')\n",
    "plt.xlabel(r'$N_{\\rm sources}$ / $t_{\\rm obs}$', fontsize=14)\n",
    "plt.ylabel(r'$N_{\\rm fields}$', fontsize=14)\n",
    "plt.grid(linestyle='dashdot', zorder=0)\n",
    "plt.show()\n",
    "#plt.savefig('source_field_dist.png', bbox_inches='tight', dpi = 200)"
   ]
  },
  {
   "cell_type": "markdown",
   "metadata": {},
   "source": [
    "## Time to Observe 1 Million Sources"
   ]
  },
  {
   "cell_type": "code",
   "execution_count": 77,
   "metadata": {},
   "outputs": [
    {
     "data": {
      "image/png": "[encoded data removed]",
      "text/plain": [
       "<Figure size 720x432 with 1 Axes>"
      ]
     },
     "metadata": {
      "needs_background": "light"
     },
     "output_type": "display_data"
    }
   ],
   "source": [
    "t = np.linspace(1, 1000, 100)\n",
    "\n",
    "c = ['r', 'purple', 'k']\n",
    "\n",
    "plt.figure(figsize = (10,6))\n",
    "plt.plot(t, np.log10(t) - 1, label = '10 beams', color = c[0], linewidth = 0.9)\n",
    "plt.plot(t, 1.1 * np.log10(t) - 1, label = '50 beams', color = c[1], linewidth = 0.9)\n",
    "plt.plot(t, 1.2 * np.log10(t) - 1, label = '100 beams', color = c[2], linewidth = 0.9)\n",
    "plt.xlabel(r't (days)', fontsize=14)\n",
    "plt.ylabel(r'$N_{\\rm sources}$', fontsize=14)\n",
    "plt.legend()\n",
    "plt.grid(linestyle='dashdot', zorder=0)\n",
    "plt.savefig('example_plot_n_beams.png', bbox_inches='tight')"
   ]
  },
  {
   "cell_type": "code",
   "execution_count": null,
   "metadata": {},
   "outputs": [],
   "source": [
    "t = np.linspace(1, 1000, 100)\n",
    "\n",
    "c = ['r', 'purple', 'k']\n",
    "\n",
    "plt.figure(figsize = (10,6))\n",
    "plt.plot(t, np.log10(t) - 1, label = '10 minutes', color = c[0], linewidth = 0.9)\n",
    "plt.plot(t, 1.1 * np.log10(t) - 1, label = '5 minutes', color = c[1], linewidth = 0.9)\n",
    "plt.plot(t, 1.2 * np.log10(t) - 1, label = '1 minute', color = c[2], linewidth = 0.9)\n",
    "plt.xlabel(r't (days)', fontsize=14)\n",
    "plt.ylabel(r'$N_{\\rm sources}$', fontsize=14)\n",
    "plt.legend()\n",
    "plt.grid(linestyle='dashdot', zorder=0)\n",
    "#plt.savefig('example_plot_t_obs.png', bbox_inches='tight')"
   ]
  },
  {
   "cell_type": "markdown",
   "metadata": {},
   "source": []
  }
 ],
 "metadata": {
  "kernelspec": {
   "display_name": "Python 3",
   "language": "python",
   "name": "python3"
  },
  "language_info": {
   "codemirror_mode": {
    "name": "ipython",
    "version": 3
   },
   "file_extension": ".py",
   "mimetype": "text/x-python",
   "name": "python",
   "nbconvert_exporter": "python",
   "pygments_lexer": "ipython3",
   "version": "3.7.3"
  }
 },
 "nbformat": 4,
 "nbformat_minor": 2
}
