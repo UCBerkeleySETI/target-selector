{
 "cells": [
  {
   "cell_type": "markdown",
   "metadata": {},
   "source": [
    "# Triaging Sources"
   ]
  },
  {
   "cell_type": "code",
   "execution_count": 1,
   "metadata": {},
   "outputs": [],
   "source": [
    "import numpy as np\n",
    "import pandas as pd\n",
    "import matplotlib.pyplot as plt\n",
    "from mk_target_selector.mk_db import Triage"
   ]
  },
  {
   "cell_type": "code",
   "execution_count": 4,
   "metadata": {},
   "outputs": [],
   "source": [
    "db = Database_Handler(cred_id = 'sources', db = 'loganp')\n",
    "db_obs = Database_Handler(cred_id = 'observations', db = 'observations')"
   ]
  },
  {
   "cell_type": "code",
   "execution_count": 5,
   "metadata": {},
   "outputs": [],
   "source": [
    "tb = db.select_targets(*np.deg2rad([200, -60, 0.5]), cols='*')"
   ]
  },
  {
   "cell_type": "code",
   "execution_count": 20,
   "metadata": {},
   "outputs": [],
   "source": [
    "rows = db_obs.conn.execute('SELECT source_id FROM observations.observation_status')\n",
    "ids = np.unique(np.array(rows.fetchall()).ravel())"
   ]
  },
  {
   "cell_type": "markdown",
   "metadata": {},
   "source": [
    "Most Important Factors\n",
    " - Pick sources that are closer to us\n",
    " - Cover the sky evenly"
   ]
  },
  {
   "cell_type": "markdown",
   "metadata": {},
   "source": [
    "Decision Tree:\n",
    "\n",
    " 1. Does the table have fewer sources than there are beams that can be formed?\n",
    "     - <span style=\"color:green\">If so, return the table.</span>\n",
    "     - <span style=\"color:red\">Go to _2_</span>\n",
    " 2. Does the table have more unobserved sources than there are beams?\n",
    "     - <span style=\"color:green\">If so, observe the best sources.</span>\n",
    "     - <span style=\"color:red\">Go to _3_</span>\n",
    " 3. Does the table have unobserved sources but fewer than the number of beams that can be formed?\n",
    "     - <span style=\"color:green\">If so, first use the beams to observe all of the unobserved sources, then triage the remaining.</span>\n",
    "     - <span style=\"color:red\">Go to _4_</span>\n",
    " 4. Have all the sources been observed?\n",
    "     - <span style=\"color:green\">Triage sources</span>"
   ]
  },
  {
   "cell_type": "code",
   "execution_count": 28,
   "metadata": {},
   "outputs": [],
   "source": [
    "obs_db = pd.DataFrame(np.arange(100), columns=['source_id'])\n",
    "source_db = pd.DataFrame(np.arange(0, 200, 3), columns=['source_id'])"
   ]
  },
  {
   "cell_type": "code",
   "execution_count": 36,
   "metadata": {},
   "outputs": [],
   "source": [
    "ids = triage(source_db, obs_db, 5)"
   ]
  },
  {
   "cell_type": "code",
   "execution_count": 50,
   "metadata": {},
   "outputs": [],
   "source": [
    "un_obs = np.logical_not(source_db['source_id'].isin(ids))"
   ]
  },
  {
   "cell_type": "code",
   "execution_count": 33,
   "metadata": {},
   "outputs": [],
   "source": [
    "def triage(source_tb, obs_tb):\n",
    "    \n",
    "    if source_tb.shape[0]:\n",
    "        print \"Nothing to see here\"\n",
    "        return source_tb\n",
    "    \n",
    "    ids = obs_tb.source_id.unique()\n",
    "    obs_bool = np.logical_not(source_db['source_id'].isin(ids))\n",
    "    \n",
    "    if source_db[obs_bool].shape[0] > n_beams:\n",
    "        return source_db[obs_bool].sort_values('dist_c', ascending=False)\n",
    "    \n",
    "    if source_db[obs_bool].shape[0] <= n_beams:\n",
    "        tb = source_db[obs_bool]\n",
    "        tb.append(triage_sources(source_db[]))\n",
    "        return tb\n",
    "        \n",
    "    if source_db[obs_bool].shape[0] == 0:\n",
    "        tb = triage_sources(source_db[])\n",
    "\n",
    "    return tb"
   ]
  },
  {
   "cell_type": "code",
   "execution_count": 25,
   "metadata": {},
   "outputs": [],
   "source": [
    "n_beams = 10"
   ]
  },
  {
   "cell_type": "code",
   "execution_count": 26,
   "metadata": {},
   "outputs": [
    {
     "data": {
      "text/plain": [
       "0     71.4540\n",
       "1     72.0175\n",
       "2     85.7082\n",
       "3    101.8200\n",
       "4    103.1620\n",
       "5    114.2070\n",
       "6    119.6250\n",
       "7    119.9490\n",
       "8    120.2390\n",
       "9    123.9690\n",
       "Name: dist_c, dtype: float64"
      ]
     },
     "execution_count": 26,
     "metadata": {},
     "output_type": "execute_result"
    }
   ],
   "source": [
    "tb.sort_values('dist_c')['dist_c'][:n_beams]"
   ]
  },
  {
   "cell_type": "code",
   "execution_count": 34,
   "metadata": {},
   "outputs": [],
   "source": [
    "def beam_attenuation(ang_dist, fwhm):\n",
    "    sig = fwhm / (2 * np.sqrt(2 * np.log(2)))\n",
    "    return np.exp(- ang_dist ** 2 / (2 * sig ** 2))\n",
    "\n",
    "def dist_attenuation(dist):\n",
    "    return 1.0 / (4 * np.pi * dist ** 2)"
   ]
  },
  {
   "cell_type": "code",
   "execution_count": 37,
   "metadata": {},
   "outputs": [],
   "source": [
    "arr = dist_attenuation(np.array([1,100]))"
   ]
  },
  {
   "cell_type": "code",
   "execution_count": 28,
   "metadata": {},
   "outputs": [
    {
     "data": {
      "text/plain": [
       "<matplotlib.lines.Line2D at 0x1110c0c50>"
      ]
     },
     "execution_count": 28,
     "metadata": {},
     "output_type": "execute_result"
    },
    {
     "data": {
      "image/png": "[encoded data removed]",
      "text/plain": [
       "<Figure size 432x288 with 1 Axes>"
      ]
     },
     "metadata": {
      "needs_background": "light"
     },
     "output_type": "display_data"
    }
   ],
   "source": [
    "ang = np.linspace(-1, 1, 100)\n",
    "fwhm = 1\n",
    "plt.plot(ang, beam_attenuation(ang, fwhm))\n",
    "plt.axhline(0.5, color='black', linestyle='--')\n",
    "plt.axvline(-0.5, color='black', linestyle='--')\n",
    "plt.axvline(0.5, color='black', linestyle='--')"
   ]
  },
  {
   "cell_type": "code",
   "execution_count": null,
   "metadata": {},
   "outputs": [],
   "source": []
  }
 ],
 "metadata": {
  "kernelspec": {
   "display_name": "Python 2",
   "language": "python",
   "name": "python2"
  },
  "language_info": {
   "codemirror_mode": {
    "name": "ipython",
    "version": 2
   },
   "file_extension": ".py",
   "mimetype": "text/x-python",
   "name": "python",
   "nbconvert_exporter": "python",
   "pygments_lexer": "ipython2",
   "version": "2.7.16"
  }
 },
 "nbformat": 4,
 "nbformat_minor": 2
}
