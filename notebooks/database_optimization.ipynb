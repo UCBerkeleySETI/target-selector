{
 "cells": [
  {
   "cell_type": "code",
   "execution_count": 1,
   "metadata": {},
   "outputs": [],
   "source": [
    "from target_selector.sql_conn import Database_Handler\n",
    "import numpy as np\n",
    "import pandas as pd"
   ]
  },
  {
   "cell_type": "markdown",
   "metadata": {},
   "source": [
    "## Add 1M_target_list to local db"
   ]
  },
  {
   "cell_type": "code",
   "execution_count": 3,
   "metadata": {},
   "outputs": [],
   "source": [
    "#db = Database_Handler()\n",
    "#data = pd.read_csv('/Users/tyler/Downloads/1_million_sample_complete.csv')\n",
    "#data.to_sql('target_list', db.conn, if_exists='fail')"
   ]
  },
  {
   "cell_type": "code",
   "execution_count": 19,
   "metadata": {},
   "outputs": [],
   "source": [
    "ra = np.linspace(10, 80, 100)\n",
    "dec = np.linspace(20, 30, 100)\n",
    "\n",
    "asdf = []\n",
    "\n",
    "for i in range(100):\n",
    "    asdf.append([i, 'POINT({}, {}, 4326)'.format(ra[i], dec[i])])"
   ]
  },
  {
   "cell_type": "code",
   "execution_count": 20,
   "metadata": {},
   "outputs": [],
   "source": [
    "tb = pd.DataFrame(np.array(asdf), columns=['id', 'coord'])"
   ]
  },
  {
   "cell_type": "code",
   "execution_count": 21,
   "metadata": {},
   "outputs": [],
   "source": [
    "tb.to_sql('point_test', db.conn, index=False, if_exists='replace')"
   ]
  },
  {
   "cell_type": "code",
   "execution_count": null,
   "metadata": {},
   "outputs": [],
   "source": [
    "db.conn.execute()"
   ]
  },
  {
   "cell_type": "markdown",
   "metadata": {},
   "source": [
    "## Optimize db"
   ]
  },
  {
   "cell_type": "code",
   "execution_count": 21,
   "metadata": {},
   "outputs": [],
   "source": [
    "conn = Database_Handler()"
   ]
  },
  {
   "cell_type": "code",
   "execution_count": 22,
   "metadata": {},
   "outputs": [],
   "source": [
    "def box_filter(c_ra, c_dec, beam_rad, table, cols):\n",
    "\n",
    "        if c_dec - beam_rad <= - np.pi / 2.0:\n",
    "            ra_min, ra_max = 0.0, 2.0 * np.pi\n",
    "            dec_min = -np.pi / 2.0\n",
    "            dec_max = c_dec + beam_rad\n",
    "\n",
    "        elif c_dec + beam_rad >= np.pi / 2.0:\n",
    "            ra_min, ra_max = 0.0, 2.0 * np.pi\n",
    "            dec_min = c_dec - beam_rad\n",
    "            dec_max = np.pi / 2.0\n",
    "\n",
    "        else:\n",
    "            ra_offset = np.arcsin( np.sin(beam_rad) / np.cos(c_dec))\n",
    "            ra_min  = c_ra - ra_offset\n",
    "            ra_max  = c_ra + ra_offset\n",
    "            dec_min = c_dec - beam_rad\n",
    "            dec_max = c_dec + beam_rad\n",
    "\n",
    "        bounds = np.rad2deg([ra_min, ra_max, dec_min, dec_max])\n",
    "\n",
    "        query = \"\"\"\n",
    "                SELECT {cols}\n",
    "                FROM {table}\n",
    "                WHERE decl BETWEEN {dec_min} AND {dec_max} \n",
    "                AND ra BETWEEN {ra_min} AND {ra_max}\\\n",
    "                \"\"\".format(cols = ', '.join(cols), table = table,\n",
    "                           ra_min = bounds[0], ra_max = bounds[1],\n",
    "                           dec_min = bounds[2], dec_max = bounds[3])\n",
    "\n",
    "        return query"
   ]
  },
  {
   "cell_type": "code",
   "execution_count": 23,
   "metadata": {},
   "outputs": [],
   "source": [
    "c_ra = np.deg2rad(20)\n",
    "c_dec = np.deg2rad(-28)\n",
    "beam_rad = np.deg2rad(.5)\n",
    "query = conn._box_filter(c_ra, c_dec, beam_rad, table = 'target_list', cols = ['ra', 'decl'])"
   ]
  },
  {
   "cell_type": "code",
   "execution_count": 24,
   "metadata": {},
   "outputs": [],
   "source": [
    "query_between = box_filter(c_ra, c_dec, beam_rad, table = 'target_list', cols = ['ra', 'decl'])"
   ]
  },
  {
   "cell_type": "code",
   "execution_count": 27,
   "metadata": {},
   "outputs": [
    {
     "name": "stdout",
     "output_type": "stream",
     "text": [
      "4.72 ms ± 38.1 µs per loop (mean ± std. dev. of 7 runs, 100 loops each)\n"
     ]
    }
   ],
   "source": [
    "%timeit tb = pd.read_sql(query, con = conn.conn)"
   ]
  },
  {
   "cell_type": "code",
   "execution_count": 28,
   "metadata": {},
   "outputs": [
    {
     "name": "stdout",
     "output_type": "stream",
     "text": [
      "6.82 ms ± 54.5 µs per loop (mean ± std. dev. of 7 runs, 100 loops each)\n"
     ]
    }
   ],
   "source": [
    "%timeit tb = pd.read_sql(query_between, con = conn.conn)"
   ]
  },
  {
   "cell_type": "code",
   "execution_count": 17,
   "metadata": {},
   "outputs": [],
   "source": [
    "tb = pd.read_sql(query, con = conn.conn)\n",
    "tb_between = pd.read_sql(query_between, con = conn.conn)"
   ]
  },
  {
   "cell_type": "code",
   "execution_count": 20,
   "metadata": {},
   "outputs": [
    {
     "data": {
      "text/plain": [
       "((16, 2), (16, 2))"
      ]
     },
     "execution_count": 20,
     "metadata": {},
     "output_type": "execute_result"
    }
   ],
   "source": [
    "tb_between.shape, tb.shape"
   ]
  },
  {
   "cell_type": "code",
   "execution_count": 9,
   "metadata": {},
   "outputs": [
    {
     "name": "stdout",
     "output_type": "stream",
     "text": [
      "1.2 s ± 31.5 ms per loop (mean ± std. dev. of 7 runs, 1 loop each)\n"
     ]
    }
   ],
   "source": [
    "%timeit tb = conn.select_targets(c_ra, c_dec, beam_rad)"
   ]
  },
  {
   "cell_type": "code",
   "execution_count": 10,
   "metadata": {},
   "outputs": [],
   "source": [
    "tb = conn.select_targets(c_ra, c_dec, beam_rad)"
   ]
  },
  {
   "cell_type": "markdown",
   "metadata": {},
   "source": [
    "## Spatial Indexing"
   ]
  },
  {
   "cell_type": "code",
   "execution_count": null,
   "metadata": {},
   "outputs": [],
   "source": [
    "conn = Database_Handler(cred_id = 'observations', db = 'observations')\n",
    "conn.conn.close()"
   ]
  },
  {
   "cell_type": "code",
   "execution_count": null,
   "metadata": {},
   "outputs": [],
   "source": [
    "try:\n",
    "    conn.conn.execute(\"DROP TABLE temp_point_test\") \n",
    "except:\n",
    "    pass\n",
    "\n",
    "try:\n",
    "    conn.conn.execute(\"DROP TABLE point_test\") \n",
    "except:\n",
    "    pass"
   ]
  },
  {
   "cell_type": "code",
   "execution_count": null,
   "metadata": {},
   "outputs": [],
   "source": [
    "conn.conn.execute('ALTER TABLE point_test ADD coords geometry;')\n",
    "conn.conn.execute(\"UPDATE point_test SET coords=(SELECT ST_GeomFromText(geomText) \" \\\n",
    "                  \"FROM temp_point_test WHERE point_test.id=temp_point_test.id)\")\n",
    "conn.conn.execute(\"DROP TABLE temp_point_test\")   "
   ]
  },
  {
   "cell_type": "code",
   "execution_count": 101,
   "metadata": {},
   "outputs": [],
   "source": [
    "results = conn.conn.execute(\"SELECT COLUMN_NAME, DATA_TYPE \\\n",
    "                             FROM INFORMATION_SCHEMA.COLUMNS \\\n",
    "                             WHERE TABLE_NAME = 'point_test'\")"
   ]
  },
  {
   "cell_type": "code",
   "execution_count": null,
   "metadata": {},
   "outputs": [],
   "source": [
    "for row in results:\n",
    "    print (row)"
   ]
  },
  {
   "cell_type": "code",
   "execution_count": 107,
   "metadata": {},
   "outputs": [],
   "source": [
    "results = conn.conn.execute(\"SELECT ST_Distance(coords, ST_GeomFromText('POINT( 50.2 25 )')) FROM point_test;\")"
   ]
  },
  {
   "cell_type": "code",
   "execution_count": 108,
   "metadata": {},
   "outputs": [
    {
     "name": "stdout",
     "output_type": "stream",
     "text": [
      "(19.4,)\n",
      "(25.4,)\n",
      "(19.4,)\n",
      "(25.4,)\n"
     ]
    }
   ],
   "source": [
    "for row in results:\n",
    "    print (row)"
   ]
  },
  {
   "cell_type": "code",
   "execution_count": null,
   "metadata": {},
   "outputs": [],
   "source": []
  }
 ],
 "metadata": {
  "kernelspec": {
   "display_name": "Python 3",
   "language": "python",
   "name": "python3"
  },
  "language_info": {
   "codemirror_mode": {
    "name": "ipython",
    "version": 3
   },
   "file_extension": ".py",
   "mimetype": "text/x-python",
   "name": "python",
   "nbconvert_exporter": "python",
   "pygments_lexer": "ipython3",
   "version": "3.7.3"
  }
 },
 "nbformat": 4,
 "nbformat_minor": 2
}
